{
 "cells": [
  {
   "cell_type": "code",
   "execution_count": 13,
   "id": "34871a72",
   "metadata": {},
   "outputs": [
    {
     "name": "stdout",
     "output_type": "stream",
     "text": [
      "result = 10 / 5 = \n",
      "2.0\n"
     ]
    }
   ],
   "source": [
    "a = int(input(\"enter first number:\"))\n",
    "b = int(input(\"enter second number:\"))\n",
    "operator = input(\"choose your operator:\")\n",
    "print(f\"result = {a} {operator} {b} = \")\n",
    "\n",
    "if operator == '+':\n",
    "    print(a + b )\n",
    "elif operator == '-':\n",
    "    print(a - b)\n",
    "elif operator =='*':\n",
    "    print(a * b)\n",
    "elif operator == '/':\n",
    "    print(a / b)\n",
    "else:\n",
    "    print(\"Invalid operator\")\n",
    "   \n"
   ]
  }
 ],
 "metadata": {
  "kernelspec": {
   "display_name": "base",
   "language": "python",
   "name": "python3"
  },
  "language_info": {
   "codemirror_mode": {
    "name": "ipython",
    "version": 3
   },
   "file_extension": ".py",
   "mimetype": "text/x-python",
   "name": "python",
   "nbconvert_exporter": "python",
   "pygments_lexer": "ipython3",
   "version": "3.12.7"
  }
 },
 "nbformat": 4,
 "nbformat_minor": 5
}
